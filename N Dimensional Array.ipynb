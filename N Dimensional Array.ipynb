{
 "cells": [
  {
   "cell_type": "markdown",
   "id": "21db3a09",
   "metadata": {},
   "source": [
    "# N- Dimensional array"
   ]
  },
  {
   "cell_type": "markdown",
   "id": "5bddbdb8",
   "metadata": {},
   "source": [
    "Arrays allows you to perform mathematical operations on whole blocks of data."
   ]
  },
  {
   "cell_type": "code",
   "execution_count": 1,
   "id": "d99aa753",
   "metadata": {},
   "outputs": [
    {
     "name": "stdout",
     "output_type": "stream",
     "text": [
      "[98.   45.34 79.   80.   20.  ]\n",
      "float64\n"
     ]
    }
   ],
   "source": [
    "# easiest way to create an array is by using an array function\n",
    "import numpy as np # I am importing numpy as np\n",
    "\n",
    "scores = [98,45.34, 79,80, 20]\n",
    "first_arr =np.array(scores)\n",
    "print (first_arr)\n",
    "print (first_arr.dtype)  # .dtype return the data type of the array object"
   ]
  },
  {
   "cell_type": "code",
   "execution_count": 2,
   "id": "ed32ae5b",
   "metadata": {},
   "outputs": [
    {
     "name": "stdout",
     "output_type": "stream",
     "text": [
      "[[20 25 58 66]\n",
      " [ 9 34 88 55]]\n",
      "2\n",
      "(2, 4)\n",
      "int32\n"
     ]
    }
   ],
   "source": [
    "# Nested lists with equal length, will be converted into a multidimensional array\n",
    "scores_1 = [[20,25,58,66], [9,34,88,55]]\n",
    "second_arr = np.array(scores_1)\n",
    "print (second_arr)\n",
    "print (second_arr.ndim)  #.ndim gives you the dimensions of an array.\n",
    "print (second_arr.shape) #(number of rows, number of columns)\n",
    "print (second_arr.dtype) "
   ]
  },
  {
   "cell_type": "code",
   "execution_count": 3,
   "id": "17c5f325",
   "metadata": {},
   "outputs": [
    {
     "data": {
      "text/plain": [
       "array([0., 0., 0., 0., 0., 0., 0., 0., 0., 0.])"
      ]
     },
     "execution_count": 3,
     "metadata": {},
     "output_type": "execute_result"
    }
   ],
   "source": [
    "x = np.zeros(10) # returns a array of zeros, the same applies for np.ones(10)\n",
    "x"
   ]
  },
  {
   "cell_type": "code",
   "execution_count": 4,
   "id": "26774492",
   "metadata": {},
   "outputs": [
    {
     "data": {
      "text/plain": [
       "array([[0., 0., 0., 0.],\n",
       "       [0., 0., 0., 0.],\n",
       "       [0., 0., 0., 0.]])"
      ]
     },
     "execution_count": 4,
     "metadata": {},
     "output_type": "execute_result"
    }
   ],
   "source": [
    "np.zeros((3,4)) # you can also mention the shape of the array"
   ]
  },
  {
   "cell_type": "code",
   "execution_count": 5,
   "id": "abd00608",
   "metadata": {},
   "outputs": [
    {
     "data": {
      "text/plain": [
       "array([ 0,  1,  2,  3,  4,  5,  6,  7,  8,  9, 10, 11, 12, 13, 14])"
      ]
     },
     "execution_count": 5,
     "metadata": {},
     "output_type": "execute_result"
    }
   ],
   "source": [
    "np.arange(15)"
   ]
  },
  {
   "cell_type": "code",
   "execution_count": 6,
   "id": "487a156b",
   "metadata": {},
   "outputs": [
    {
     "data": {
      "text/plain": [
       "array([[1., 0., 0., 0., 0., 0.],\n",
       "       [0., 1., 0., 0., 0., 0.],\n",
       "       [0., 0., 1., 0., 0., 0.],\n",
       "       [0., 0., 0., 1., 0., 0.],\n",
       "       [0., 0., 0., 0., 1., 0.],\n",
       "       [0., 0., 0., 0., 0., 1.]])"
      ]
     },
     "execution_count": 6,
     "metadata": {},
     "output_type": "execute_result"
    }
   ],
   "source": [
    "np.eye(6) # Create a square N x N identity matrix (1’s on the diagonal and 0’s elsewhere)"
   ]
  },
  {
   "cell_type": "code",
   "execution_count": 7,
   "id": "a51f3e70",
   "metadata": {},
   "outputs": [
    {
     "name": "stdout",
     "output_type": "stream",
     "text": [
      "[95.   66.22 67.   82.   80.  ]\n",
      "[9025.     4385.0884 4489.     6724.     6400.    ]\n",
      "[0. 0. 0. 0. 0.]\n",
      "[0.01052632 0.01510118 0.01492537 0.01219512 0.0125    ]\n",
      "[9.74679434 8.1375672  8.18535277 9.05538514 8.94427191]\n"
     ]
    }
   ],
   "source": [
    "#Batch operations on data can be performed without using for loops, this is called vectorization\n",
    "scores = [95,66.22, 67,82, 80]\n",
    "first_arr =np.array(scores)\n",
    "print (first_arr)\n",
    "print (first_arr * first_arr)\n",
    "print (first_arr - first_arr)\n",
    "print (1/(first_arr))\n",
    "print (first_arr ** 0.5)"
   ]
  },
  {
   "cell_type": "markdown",
   "id": "41d8ef6c",
   "metadata": {},
   "source": [
    "# Indexing and Slicing"
   ]
  },
  {
   "cell_type": "code",
   "execution_count": 8,
   "id": "1bc78ad9",
   "metadata": {},
   "outputs": [
    {
     "name": "stdout",
     "output_type": "stream",
     "text": [
      "[ 0  1  2  3  4  5  6  7  8  9 10 11]\n",
      "5\n",
      "[4 5 6 7 8]\n",
      "[ 0  1  2  3 99 99 99 99 99  9 10 11]\n"
     ]
    }
   ],
   "source": [
    "# you may want to select a subset of your data, for which Numpy array indexing is really useful\n",
    "new_arr = np.arange(12)\n",
    "print (new_arr)\n",
    "print (new_arr[5])\n",
    "print (new_arr[4:9])\n",
    "new_arr[4:9] = 99 #assign sequence of values from 4 to 9 as 99\n",
    "print (new_arr)"
   ]
  },
  {
   "cell_type": "code",
   "execution_count": 9,
   "id": "d7c5d24e",
   "metadata": {},
   "outputs": [
    {
     "name": "stdout",
     "output_type": "stream",
     "text": [
      "[     0      1      2      3     99 123456     99     99     99      9\n",
      "     10     11]\n"
     ]
    },
    {
     "data": {
      "text/plain": [
       "array([    99, 123456,     99,     99,     99])"
      ]
     },
     "execution_count": 9,
     "metadata": {},
     "output_type": "execute_result"
    }
   ],
   "source": [
    "# A major diffence between lists and array is that, array slices are views on the original array. This means that\n",
    "# the data is not copied, and any modifications to the view will be reflected in the source\n",
    "#  array. \n",
    "modi_arr = new_arr[4:9] \n",
    "modi_arr[1] = 123456\n",
    "print (new_arr)                 # you can see the changes are refelected in main array. \n",
    "modi_arr[:]                  # the sliced variable"
   ]
  },
  {
   "cell_type": "code",
   "execution_count": 11,
   "id": "ebc5b7b1",
   "metadata": {},
   "outputs": [
    {
     "name": "stdout",
     "output_type": "stream",
     "text": [
      "[[3 4 5]\n",
      " [6 7 8]\n",
      " [9 5 1]]\n",
      "[6 7 8]\n",
      "5\n",
      "5\n"
     ]
    },
    {
     "data": {
      "image/jpeg": "[encoded data removed]",
      "text/plain": [
       "<IPython.core.display.Image object>"
      ]
     },
     "execution_count": 11,
     "metadata": {},
     "output_type": "execute_result"
    }
   ],
   "source": [
    "# arrays can be treated like matrices\n",
    "matrix_arr =np.array([[3,4,5],[6,7,8],[9,5,1]])\n",
    "print (matrix_arr)\n",
    "print (matrix_arr[1])\n",
    "print (matrix_arr[0][2]) #first row and third column\n",
    "print (matrix_arr[0,2]) # This is same as the above operation\n",
    "\n",
    "from IPython.display import Image  # importing a image from my computer.\n",
    "i = Image(filename='D:/Picture/capture.jpeg')\n",
    "i # Blue print of a matrix "
   ]
  },
  {
   "cell_type": "code",
   "execution_count": 17,
   "id": "3cfaacf6",
   "metadata": {},
   "outputs": [
    {
     "name": "stdout",
     "output_type": "stream",
     "text": [
      "D:\\Picture\n"
     ]
    }
   ],
   "source": [
    "cd D:\\Picture  #changing my directory"
   ]
  },
  {
   "cell_type": "code",
   "execution_count": 18,
   "id": "06ccb1cb",
   "metadata": {},
   "outputs": [
    {
     "name": "stdout",
     "output_type": "stream",
     "text": [
      "[[[10 11 12]\n",
      "  [ 4  5  6]]\n",
      "\n",
      " [[ 7  8  9]\n",
      "  [ 1  2  3]]]\n",
      "returns the second list inside first list [4 5 6]\n"
     ]
    }
   ],
   "source": [
    "# 3d arrays -> this is a 2x2x3 array\n",
    "three_d_arr = np.array([[[10, 11, 12], [4, 5, 6]], [[7, 8, 9], [1, 2, 3]]])\n",
    "print (three_d_arr)\n",
    "print (\"returns the second list inside first list {}\".format(three_d_arr[0,1]))"
   ]
  },
  {
   "cell_type": "code",
   "execution_count": 19,
   "id": "e40952b9",
   "metadata": {},
   "outputs": [
    {
     "name": "stdout",
     "output_type": "stream",
     "text": [
      "[[10 11 12]\n",
      " [ 4  5  6]]\n"
     ]
    }
   ],
   "source": [
    "three_d_arr = np.array([[[10, 11, 12], [4, 5, 6]], [[7, 8, 9], [1, 2, 3]]])\n",
    "print (three_d_arr[0])\n",
    "#if you omit later indices, the returned object will be a lowerdimensional\n",
    "# ndarray consisting of all the data along the higher dimensions"
   ]
  },
  {
   "cell_type": "code",
   "execution_count": 20,
   "id": "e01c862f",
   "metadata": {},
   "outputs": [
    {
     "name": "stdout",
     "output_type": "stream",
     "text": [
      "New value of three_d_arr: [[[99 99 99]\n",
      "  [99 99 99]]\n",
      "\n",
      " [[ 7  8  9]\n",
      "  [ 1  2  3]]]\n",
      "three_d_arr again: [[[10 11 12]\n",
      "  [ 4  5  6]]\n",
      "\n",
      " [[ 7  8  9]\n",
      "  [ 1  2  3]]]\n"
     ]
    }
   ],
   "source": [
    "copied_values = three_d_arr[0].copy() # copy arr[0] value to copied_values\n",
    "three_d_arr[0]= 99  # change all values of arr[0] to 99 \n",
    "print (\"New value of three_d_arr: {}\".format(three_d_arr))  # check the new value of three_d_arr \n",
    "three_d_arr[0] = copied_values # assign copied values back to three_d_arr[0]\n",
    "print (\"three_d_arr again: {}\".format(three_d_arr))"
   ]
  },
  {
   "cell_type": "code",
   "execution_count": 21,
   "id": "062df572",
   "metadata": {},
   "outputs": [
    {
     "name": "stdout",
     "output_type": "stream",
     "text": [
      "The original matrix [[1 2 3]\n",
      " [4 5 6]\n",
      " [7 8 9]]:\n",
      "slices the first two rows:[[1 2 3]\n",
      " [4 5 6]]\n",
      "Slices the first two rows and two columns:[[2 3]\n",
      " [5 6]]\n",
      "returns 6 and 7: [4 5]\n",
      "Returns first column: [[1]\n",
      " [4]\n",
      " [7]]\n"
     ]
    }
   ],
   "source": [
    "matrix_arr =np.array([[1,2,3],[4,5,6],[7,8,9]])\n",
    "print (\"The original matrix {}:\".format(matrix_arr))\n",
    "print (\"slices the first two rows:{}\".format(matrix_arr[:2])) # similar to list slicing. returns first two rows of the array\n",
    "print (\"Slices the first two rows and two columns:{}\".format(matrix_arr[:2, 1:]))\n",
    "print (\"returns 6 and 7: {}\".format(matrix_arr[1,:2]))\n",
    "print (\"Returns first column: {}\".format(matrix_arr[:,:1])) #Note that a colon by itself means to take the entire axis"
   ]
  },
  {
   "cell_type": "code",
   "execution_count": 22,
   "id": "205b9811",
   "metadata": {},
   "outputs": [
    {
     "data": {
      "image/jpeg": "[encoded data removed]",
      "text/plain": [
       "<IPython.core.display.Image object>"
      ]
     },
     "execution_count": 22,
     "metadata": {},
     "output_type": "execute_result"
    }
   ],
   "source": [
    "from IPython.display import Image  # importing a image from my computer.\n",
    "j = Image(filename='D:/Picture/Expre.jpeg')\n",
    "j # diagrammatic explanation of matrix array slicing works"
   ]
  },
  {
   "cell_type": "code",
   "execution_count": 24,
   "id": "7d3eae30",
   "metadata": {},
   "outputs": [
    {
     "name": "stdout",
     "output_type": "stream",
     "text": [
      "[ True False False False False False False]\n"
     ]
    }
   ],
   "source": [
    "#Import random module from Numpy \n",
    "personals = np.array(['Manu', 'Latha', 'Roshan', 'Meet', 'Milan', 'Kalai', 'ravi'])\n",
    "print (personals == 'Manu') #checks for the string 'Manu' in personals. If present it returns true; else false#"
   ]
  },
  {
   "cell_type": "code",
   "execution_count": 25,
   "id": "c600871a",
   "metadata": {},
   "outputs": [
    {
     "name": "stdout",
     "output_type": "stream",
     "text": [
      "[[ 0.09710347 -1.89962165 -1.18891582 -0.45885718]\n",
      " [-0.3019944   0.27344695 -0.0485542  -1.4554686 ]\n",
      " [ 0.45965364 -1.78018754  0.40171492  0.34841602]\n",
      " [ 0.66432735 -1.08241502  0.11232411 -0.98954544]\n",
      " [ 0.97366359  1.20299584  1.07097863  0.29667071]\n",
      " [-0.548295   -0.81225242 -0.58892617 -1.24497508]\n",
      " [-0.29094503  0.25603219  0.69374497 -0.33996408]]\n"
     ]
    },
    {
     "data": {
      "text/plain": [
       "array([[ 0.09710347, -1.89962165, -1.18891582, -0.45885718]])"
      ]
     },
     "execution_count": 25,
     "metadata": {},
     "output_type": "execute_result"
    }
   ],
   "source": [
    "from numpy import random \n",
    "random_no = random.randn(7,4)\n",
    "print (random_no)\n",
    "random_no[personals =='Manu'] #The function returns the rows for which the value of manu is true\n",
    "# Check the image displayed in the cell below. "
   ]
  },
  {
   "cell_type": "code",
   "execution_count": 26,
   "id": "650ac10e",
   "metadata": {},
   "outputs": [
    {
     "name": "stdout",
     "output_type": "stream",
     "text": [
      "C:\\Users\\latha\\Desktop\\pics\n"
     ]
    }
   ],
   "source": [
    "cd C:\\Users\\latha\\Desktop\\pics"
   ]
  },
  {
   "cell_type": "code",
   "execution_count": 27,
   "id": "ee7d24ff",
   "metadata": {},
   "outputs": [
    {
     "data": {
      "image/jpeg": "[encoded data removed]",
      "text/plain": [
       "<IPython.core.display.Image object>"
      ]
     },
     "execution_count": 27,
     "metadata": {},
     "output_type": "execute_result"
    }
   ],
   "source": [
    "from IPython.display import Image\n",
    "k = Image(filename='D:/Picture/Matrix.jpeg')\n",
    "k"
   ]
  },
  {
   "cell_type": "code",
   "execution_count": 28,
   "id": "e1fadbc8",
   "metadata": {},
   "outputs": [
    {
     "data": {
      "text/plain": [
       "array([[-1.18891582, -0.45885718]])"
      ]
     },
     "execution_count": 28,
     "metadata": {},
     "output_type": "execute_result"
    }
   ],
   "source": [
    "random_no[personals == 'Manu', 2:] #First two columns and first two rows."
   ]
  },
  {
   "cell_type": "code",
   "execution_count": 29,
   "id": "e4b37cf2",
   "metadata": {},
   "outputs": [
    {
     "name": "stdout",
     "output_type": "stream",
     "text": [
      "[False  True  True  True  True  True  True]\n"
     ]
    },
    {
     "data": {
      "text/plain": [
       "array([[-0.3019944 ,  0.27344695, -0.0485542 , -1.4554686 ],\n",
       "       [ 0.45965364, -1.78018754,  0.40171492,  0.34841602],\n",
       "       [ 0.66432735, -1.08241502,  0.11232411, -0.98954544],\n",
       "       [ 0.97366359,  1.20299584,  1.07097863,  0.29667071],\n",
       "       [-0.548295  , -0.81225242, -0.58892617, -1.24497508],\n",
       "       [-0.29094503,  0.25603219,  0.69374497, -0.33996408]])"
      ]
     },
     "execution_count": 29,
     "metadata": {},
     "output_type": "execute_result"
    }
   ],
   "source": [
    "# To select everything except 'Manu', you can != or negate the condition using -:\n",
    "print (personals != 'Manu')\n",
    "random_no[~(personals == 'Manu')] #get everything except 1st and 4th rows"
   ]
  },
  {
   "cell_type": "code",
   "execution_count": 30,
   "id": "37cf49aa",
   "metadata": {},
   "outputs": [
    {
     "name": "stdout",
     "output_type": "stream",
     "text": [
      "[ True False False False False False False]\n"
     ]
    },
    {
     "data": {
      "text/plain": [
       "array([[ 0.09710347, -1.89962165, -1.18891582, -0.45885718]])"
      ]
     },
     "execution_count": 30,
     "metadata": {},
     "output_type": "execute_result"
    }
   ],
   "source": [
    "# you can use boolean operator &(and), |(or)\n",
    "new_variable = (personals == 'Manu') | (personals == 'Jeevan')\n",
    "print (new_variable)\n",
    "random_no[new_variable] "
   ]
  },
  {
   "cell_type": "code",
   "execution_count": 31,
   "id": "e895707a",
   "metadata": {},
   "outputs": [
    {
     "data": {
      "text/plain": [
       "array([[0.09710347, 0.        , 0.        , 0.        ],\n",
       "       [0.        , 0.27344695, 0.        , 0.        ],\n",
       "       [0.45965364, 0.        , 0.40171492, 0.34841602],\n",
       "       [0.66432735, 0.        , 0.11232411, 0.        ],\n",
       "       [0.97366359, 1.20299584, 1.07097863, 0.29667071],\n",
       "       [0.        , 0.        , 0.        , 0.        ],\n",
       "       [0.        , 0.25603219, 0.69374497, 0.        ]])"
      ]
     },
     "execution_count": 31,
     "metadata": {},
     "output_type": "execute_result"
    }
   ],
   "source": [
    "random_no[random_no < 0] =0 \n",
    "random_no # This will set all negative values to zero"
   ]
  },
  {
   "cell_type": "code",
   "execution_count": 32,
   "id": "a9c815a0",
   "metadata": {},
   "outputs": [
    {
     "data": {
      "text/plain": [
       "array([[0.09710347, 0.        , 0.        , 0.        ],\n",
       "       [9.        , 9.        , 9.        , 9.        ],\n",
       "       [9.        , 9.        , 9.        , 9.        ],\n",
       "       [9.        , 9.        , 9.        , 9.        ],\n",
       "       [9.        , 9.        , 9.        , 9.        ],\n",
       "       [9.        , 9.        , 9.        , 9.        ],\n",
       "       [9.        , 9.        , 9.        , 9.        ]])"
      ]
     },
     "execution_count": 32,
     "metadata": {},
     "output_type": "execute_result"
    }
   ],
   "source": [
    "random_no[ personals != 'Manu'] = 9 # This will set all rows except 1 and 4 to 9. \n",
    "random_no"
   ]
  },
  {
   "cell_type": "markdown",
   "id": "5084442a",
   "metadata": {},
   "source": [
    "#  Fancy Indexing(Indexing using Integer arrays)"
   ]
  },
  {
   "cell_type": "code",
   "execution_count": 33,
   "id": "5b417c6c",
   "metadata": {},
   "outputs": [
    {
     "data": {
      "text/plain": [
       "array([[0., 0., 0., 0.],\n",
       "       [1., 1., 1., 1.],\n",
       "       [2., 2., 2., 2.],\n",
       "       [3., 3., 3., 3.],\n",
       "       [4., 4., 4., 4.],\n",
       "       [5., 5., 5., 5.],\n",
       "       [6., 6., 6., 6.]])"
      ]
     },
     "execution_count": 33,
     "metadata": {},
     "output_type": "execute_result"
    }
   ],
   "source": [
    "# from numpy import random\n",
    "algebra = random.randn(7,4) # empty will return a matrix of size 7,4\n",
    "for j in range(7):\n",
    "    algebra[j] = j\n",
    "algebra"
   ]
  },
  {
   "cell_type": "code",
   "execution_count": 34,
   "id": "11ae26b5",
   "metadata": {},
   "outputs": [
    {
     "data": {
      "text/plain": [
       "array([[6., 6., 6., 6.],\n",
       "       [2., 2., 2., 2.],\n",
       "       [3., 3., 3., 3.]])"
      ]
     },
     "execution_count": 34,
     "metadata": {},
     "output_type": "execute_result"
    }
   ],
   "source": [
    "# To select a subset of rows in particular order, you can simply pass a list.\n",
    "algebra[[6,2,3]] #returns a subset of rows"
   ]
  },
  {
   "cell_type": "code",
   "execution_count": 35,
   "id": "4f10728f",
   "metadata": {},
   "outputs": [
    {
     "name": "stdout",
     "output_type": "stream",
     "text": [
      "[[ 0  1  2  3]\n",
      " [ 4  5  6  7]\n",
      " [ 8  9 10 11]\n",
      " [12 13 14 15]\n",
      " [16 17 18 19]\n",
      " [20 21 22 23]\n",
      " [24 25 26 27]\n",
      " [28 29 30 31]\n",
      " [32 33 34 35]]\n"
     ]
    },
    {
     "data": {
      "text/plain": [
       "array([ 7, 18, 13,  8])"
      ]
     },
     "execution_count": 35,
     "metadata": {},
     "output_type": "execute_result"
    }
   ],
   "source": [
    "fancy = np.arange(36).reshape(9,4) #reshape is to reshape an array\n",
    "print (fancy)\n",
    "fancy[[1,4,3,2],[3,2,1,0]] #the position of the output array are[(1,3),(4,2),(3,1),(2,0)]"
   ]
  },
  {
   "cell_type": "code",
   "execution_count": 36,
   "id": "d4bc944a",
   "metadata": {},
   "outputs": [
    {
     "data": {
      "text/plain": [
       "array([[ 4,  7,  5,  6],\n",
       "       [16, 19, 17, 18],\n",
       "       [32, 35, 33, 34],\n",
       "       [ 8, 11,  9, 10]])"
      ]
     },
     "execution_count": 36,
     "metadata": {},
     "output_type": "execute_result"
    }
   ],
   "source": [
    "fancy[[1, 4, 8, 2]][:, [0, 3, 1, 2]] # entire first row is selected, but the elements are interchanged, same goes for 4th, 8th and 2 nd row."
   ]
  },
  {
   "cell_type": "code",
   "execution_count": 37,
   "id": "139d951d",
   "metadata": {},
   "outputs": [
    {
     "data": {
      "text/plain": [
       "array([[ 8, 11,  9, 10],\n",
       "       [16, 19, 17, 18],\n",
       "       [32, 35, 33, 34],\n",
       "       [12, 15, 13, 14]])"
      ]
     },
     "execution_count": 37,
     "metadata": {},
     "output_type": "execute_result"
    }
   ],
   "source": [
    "# another way to do the above operation is by using np.ix_ function.\n",
    "fancy[np.ix_([2,4,8,3],[0,3,1,2])]"
   ]
  },
  {
   "cell_type": "markdown",
   "id": "4d61d57e",
   "metadata": {},
   "source": [
    "# Transposing Array"
   ]
  },
  {
   "cell_type": "code",
   "execution_count": 38,
   "id": "c5f32eb2",
   "metadata": {},
   "outputs": [
    {
     "data": {
      "text/plain": [
       "array([[ 0,  4,  8],\n",
       "       [ 1,  5,  9],\n",
       "       [ 2,  6, 10],\n",
       "       [ 3,  7, 11]])"
      ]
     },
     "execution_count": 38,
     "metadata": {},
     "output_type": "execute_result"
    }
   ],
   "source": [
    "transpose= np.arange(12).reshape(3,4) \n",
    "transpose.T # the shape has changed to 4,3"
   ]
  },
  {
   "cell_type": "code",
   "execution_count": 39,
   "id": "2e2ec117",
   "metadata": {},
   "outputs": [
    {
     "data": {
      "text/plain": [
       "array([[ 80,  92, 104, 116],\n",
       "       [ 92, 107, 122, 137],\n",
       "       [104, 122, 140, 158],\n",
       "       [116, 137, 158, 179]])"
      ]
     },
     "execution_count": 39,
     "metadata": {},
     "output_type": "execute_result"
    }
   ],
   "source": [
    "#you can use np.dot function to perform matrix computations. You can calculate X transpose X as follows:\n",
    "np.dot(transpose.T, transpose)"
   ]
  },
  {
   "cell_type": "markdown",
   "id": "cdd52174",
   "metadata": {},
   "source": [
    "# universal functions"
   ]
  },
  {
   "cell_type": "markdown",
   "id": "98a9376b",
   "metadata": {},
   "source": [
    "They perform element wise operations on data in arrays."
   ]
  },
  {
   "cell_type": "code",
   "execution_count": 40,
   "id": "9d853243",
   "metadata": {},
   "outputs": [
    {
     "name": "stdout",
     "output_type": "stream",
     "text": [
      "[0 1 2 3 4 5 6 7]\n",
      "[0.         1.         1.41421356 1.73205081 2.         2.23606798\n",
      " 2.44948974 2.64575131]\n",
      "[1.00000000e+00 2.71828183e+00 7.38905610e+00 2.00855369e+01\n",
      " 5.45981500e+01 1.48413159e+02 4.03428793e+02 1.09663316e+03]\n"
     ]
    }
   ],
   "source": [
    "funky =np.arange(8)\n",
    "print(funky)\n",
    "print(np.sqrt(funky))\n",
    "print(np.exp(funky)) #exponent of the array\n",
    "# these are called as unary functions"
   ]
  },
  {
   "cell_type": "code",
   "execution_count": 41,
   "id": "f6a67dcf",
   "metadata": {},
   "outputs": [
    {
     "name": "stdout",
     "output_type": "stream",
     "text": [
      "[ 1.64504774  2.06140202 -0.27234363  0.40383083  0.27072125  0.63074148\n",
      "  0.45938114  0.69594443  0.37466616  0.48213312]\n",
      "[-1.47057097  0.11256733 -2.02792887 -0.89716951 -2.24723445  0.62477805\n",
      "  0.21650586  0.35057736  0.52656358  0.6586925 ]\n",
      "[ 1.64504774  2.06140202 -0.27234363  0.40383083  0.27072125  0.63074148\n",
      "  0.45938114  0.69594443  0.52656358  0.6586925 ]\n",
      "(array([ 0.64504774,  0.06140202, -0.27234363,  0.40383083,  0.27072125,\n",
      "        0.63074148,  0.45938114,  0.69594443,  0.37466616,  0.48213312]), array([ 1.,  2., -0.,  0.,  0.,  0.,  0.,  0.,  0.,  0.]))\n"
     ]
    }
   ],
   "source": [
    "# Binary functions take two value, Others such as maximum, add\n",
    "x = random.randn(10)\n",
    "y = random.randn(10)\n",
    "print (x)\n",
    "print (y)\n",
    "print (np.maximum(x,y))# element wise operation\n",
    "print (np.modf(x))# function modf returns the fractional and integral parts of a floating point arrays"
   ]
  },
  {
   "cell_type": "code",
   "execution_count": 42,
   "id": "f010757b",
   "metadata": {},
   "outputs": [
    {
     "data": {
      "image/jpeg": "[encoded data removed]",
      "text/plain": [
       "<IPython.core.display.Image object>"
      ]
     },
     "execution_count": 42,
     "metadata": {},
     "output_type": "execute_result"
    }
   ],
   "source": [
    "# List of unary functions avaliable\n",
    "from IPython.display import Image  \n",
    "l = Image(filename='D:\\\\Picture\\\\unary.jpeg')\n",
    "l"
   ]
  },
  {
   "cell_type": "code",
   "execution_count": 43,
   "id": "c3b5eab3",
   "metadata": {},
   "outputs": [
    {
     "data": {
      "image/jpeg": "[encoded data removed]",
      "text/plain": [
       "<IPython.core.display.Image object>"
      ]
     },
     "execution_count": 43,
     "metadata": {},
     "output_type": "execute_result"
    }
   ],
   "source": [
    "#List of binary functions available\n",
    "from IPython.display import Image  \n",
    "l = Image(filename='D:\\\\Picture\\\\binaryfunctions.jpeg')\n",
    "l\n",
    "#logical operators , and  greater, greater_equal,less, less_equal, equal, not_equal operations can also be performed"
   ]
  },
  {
   "cell_type": "markdown",
   "id": "6ea448a0",
   "metadata": {},
   "source": [
    "# Data Processing using arrays."
   ]
  },
  {
   "cell_type": "code",
   "execution_count": 44,
   "id": "dadb2651",
   "metadata": {},
   "outputs": [
    {
     "name": "stdout",
     "output_type": "stream",
     "text": [
      "Matrix values of y: [[-5 -5 -5 -5 -5 -5 -5 -5 -5 -5]\n",
      " [-4 -4 -4 -4 -4 -4 -4 -4 -4 -4]\n",
      " [-3 -3 -3 -3 -3 -3 -3 -3 -3 -3]\n",
      " [-2 -2 -2 -2 -2 -2 -2 -2 -2 -2]\n",
      " [-1 -1 -1 -1 -1 -1 -1 -1 -1 -1]\n",
      " [ 0  0  0  0  0  0  0  0  0  0]\n",
      " [ 1  1  1  1  1  1  1  1  1  1]\n",
      " [ 2  2  2  2  2  2  2  2  2  2]\n",
      " [ 3  3  3  3  3  3  3  3  3  3]\n",
      " [ 4  4  4  4  4  4  4  4  4  4]]\n",
      "Matrix values of x: [[-5 -4 -3 -2 -1  0  1  2  3  4]\n",
      " [-5 -4 -3 -2 -1  0  1  2  3  4]\n",
      " [-5 -4 -3 -2 -1  0  1  2  3  4]\n",
      " [-5 -4 -3 -2 -1  0  1  2  3  4]\n",
      " [-5 -4 -3 -2 -1  0  1  2  3  4]\n",
      " [-5 -4 -3 -2 -1  0  1  2  3  4]\n",
      " [-5 -4 -3 -2 -1  0  1  2  3  4]\n",
      " [-5 -4 -3 -2 -1  0  1  2  3  4]\n",
      " [-5 -4 -3 -2 -1  0  1  2  3  4]\n",
      " [-5 -4 -3 -2 -1  0  1  2  3  4]]\n"
     ]
    }
   ],
   "source": [
    "mtrices =np.arange(-5,5,1)\n",
    "x, y = np.meshgrid(mtrices, mtrices) #mesh grid function takes two 1 d arrays and produces two 2d arrays\n",
    "print (\"Matrix values of y: {}\".format(y))\n",
    "print (\"Matrix values of x: {}\".format(x))"
   ]
  },
  {
   "cell_type": "code",
   "execution_count": 45,
   "id": "14de8eaf",
   "metadata": {},
   "outputs": [
    {
     "name": "stdout",
     "output_type": "stream",
     "text": [
      "[(3, 8, True), (4, 9, False), (5, 10, True), (6, 11, True), (7, 12, False)]\n"
     ]
    },
    {
     "data": {
      "text/plain": [
       "array([ 3,  9,  5,  6, 12])"
      ]
     },
     "execution_count": 45,
     "metadata": {},
     "output_type": "execute_result"
    }
   ],
   "source": [
    "x1= np.array([3,4,5,6,7])\n",
    "y1 = np.array([8,9,10,11,12])\n",
    "cond =[True, False, True, True, False]\n",
    "#If you want to take a value from x1 whenever the corresponding value in cond is true, otherwise take value from y.\n",
    "z1 = [(x,y,z) for x,y,z in zip(x1, y1, cond)] # I have used zip function To illustrate the concept\n",
    "print (z1)\n",
    "np.where(cond, x1, y1) "
   ]
  },
  {
   "cell_type": "code",
   "execution_count": 46,
   "id": "cf2e60a3",
   "metadata": {},
   "outputs": [
    {
     "name": "stdout",
     "output_type": "stream",
     "text": [
      "[[-1.6363877   1.8983561   0.94314669 -1.7773407  -0.95330037]\n",
      " [-0.45511417  0.95031922 -0.60249613  0.17623238  0.42079567]\n",
      " [-0.16670402 -0.63655605 -0.35564906  0.96931576  0.01284875]\n",
      " [-1.23733562  1.0646394   0.15845808  0.31165464  1.24023289]\n",
      " [ 0.03011939 -0.29130328 -1.49526494 -0.002751   -0.89035333]]\n",
      "[[-1  1  1 -1 -1]\n",
      " [-1  1 -1  1  1]\n",
      " [-1 -1 -1  1  1]\n",
      " [-1  1  1  1  1]\n",
      " [ 1 -1 -1 -1 -1]]\n"
     ]
    },
    {
     "data": {
      "text/plain": [
       "array([[-1.6363877 ,  1.        ,  1.        , -1.7773407 , -0.95330037],\n",
       "       [-0.45511417,  1.        , -0.60249613,  1.        ,  1.        ],\n",
       "       [-0.16670402, -0.63655605, -0.35564906,  1.        ,  1.        ],\n",
       "       [-1.23733562,  1.        ,  1.        ,  1.        ,  1.        ],\n",
       "       [ 1.        , -0.29130328, -1.49526494, -0.002751  , -0.89035333]])"
      ]
     },
     "execution_count": 46,
     "metadata": {},
     "output_type": "execute_result"
    }
   ],
   "source": [
    "ra = np.random.randn(5,5)\n",
    "# If you want to replace negative values in ra with -1 and positive values with 1. You can do it using where function\n",
    "print (ra)\n",
    "print (np.where(ra>0, 1, -1)) # If values in ra are greater than zero, replace it with 1, else replace it with -1.\n",
    "# to set only positive values\n",
    "np.where(ra >0, 1, ra) # same implies to negative values"
   ]
  },
  {
   "cell_type": "markdown",
   "id": "4d73c6eb",
   "metadata": {},
   "source": [
    "# Statistical Methods"
   ]
  },
  {
   "cell_type": "code",
   "execution_count": 47,
   "id": "f59793d8",
   "metadata": {},
   "outputs": [
    {
     "name": "stdout",
     "output_type": "stream",
     "text": [
      "-0.033157175938813864\n",
      "-0.033157175938813864\n",
      "-0.8289293984703465\n"
     ]
    }
   ],
   "source": [
    "thie = np.random.randn(5,5)\n",
    "print (thie.mean()) # calculates the mean of thie\n",
    "print (np.mean(thie)) # alternate method to calculate mean\n",
    "print (thie.sum())"
   ]
  },
  {
   "cell_type": "code",
   "execution_count": 48,
   "id": "3149225f",
   "metadata": {},
   "outputs": [
    {
     "name": "stdout",
     "output_type": "stream",
     "text": [
      "The arrays are: [[ 0  1  2]\n",
      " [ 3  4  5]\n",
      " [ 6  7  8]\n",
      " [ 9 10 11]]\n",
      "The sum of rows are :[18 22 26]\n"
     ]
    }
   ],
   "source": [
    "jp =np.arange(12).reshape(4,3)\n",
    "print(\"The arrays are: {}\".format(jp))\n",
    "print (\"The sum of rows are :{}\".format(np.sum(jp, axis =0))) #axis =0, gives you sum of the columns. axis =1 , gives sum of rows.\n",
    "# remember this zero is for columns and one is for rows."
   ]
  },
  {
   "cell_type": "code",
   "execution_count": 49,
   "id": "8276b108",
   "metadata": {},
   "outputs": [
    {
     "name": "stdout",
     "output_type": "stream",
     "text": [
      "[ 3 12 21 30]\n"
     ]
    }
   ],
   "source": [
    "print (jp.sum(1))#returns sum of rows"
   ]
  },
  {
   "cell_type": "code",
   "execution_count": 50,
   "id": "3ba21b87",
   "metadata": {},
   "outputs": [
    {
     "data": {
      "text/plain": [
       "array([[ 0,  1,  2],\n",
       "       [ 3,  5,  7],\n",
       "       [ 9, 12, 15],\n",
       "       [18, 22, 26]], dtype=int32)"
      ]
     },
     "execution_count": 50,
     "metadata": {},
     "output_type": "execute_result"
    }
   ],
   "source": [
    "jp.cumsum(0) "
   ]
  },
  {
   "cell_type": "code",
   "execution_count": 51,
   "id": "0c7d2b4d",
   "metadata": {},
   "outputs": [
    {
     "data": {
      "text/plain": [
       "array([[ 0,  1,  3],\n",
       "       [ 3,  7, 12],\n",
       "       [ 6, 13, 21],\n",
       "       [ 9, 19, 30]], dtype=int32)"
      ]
     },
     "execution_count": 51,
     "metadata": {},
     "output_type": "execute_result"
    }
   ],
   "source": [
    "jp.cumsum(1)#cumulative sum of rows"
   ]
  },
  {
   "cell_type": "code",
   "execution_count": 52,
   "id": "452fd705",
   "metadata": {},
   "outputs": [
    {
     "name": "stdout",
     "output_type": "stream",
     "text": [
      "48\n",
      "52\n",
      "True\n",
      "False\n"
     ]
    }
   ],
   "source": [
    "xp =np.random.randn(100)\n",
    "print((xp > 0).sum()) # sum of all positive values\n",
    "print ((xp < 0).sum())\n",
    "tandf =np.array([True,False,True,False,True,False])\n",
    "print (tandf.any())#checks if any of the values are true\n",
    "print (tandf.all()) #returns false even if a single value is false\n",
    "#These methods also work with non-boolean arrays, where non-zero elements evaluate to True."
   ]
  },
  {
   "cell_type": "markdown",
   "id": "d85480e0",
   "metadata": {},
   "source": [
    "# Other array functions are:\n"
   ]
  },
  {
   "cell_type": "markdown",
   "id": "ffdc6758",
   "metadata": {},
   "source": [
    "std, var -> standard deviation and variance\n",
    "min, max -> Minimum and Maximum\n",
    "argmin, argmax -> Indices of minimum and maximum elements"
   ]
  },
  {
   "cell_type": "markdown",
   "id": "5787dca0",
   "metadata": {},
   "source": [
    "# Sorting"
   ]
  },
  {
   "cell_type": "code",
   "execution_count": 53,
   "id": "940da218",
   "metadata": {},
   "outputs": [
    {
     "name": "stdout",
     "output_type": "stream",
     "text": [
      "[-0.95894508 -1.95005606  0.28841818  0.80920432  0.19680437 -0.92101219\n",
      "  0.75681726  2.12923039]\n"
     ]
    },
    {
     "data": {
      "text/plain": [
       "array([-1.95005606, -0.95894508, -0.92101219,  0.19680437,  0.28841818,\n",
       "        0.75681726,  0.80920432,  2.12923039])"
      ]
     },
     "execution_count": 53,
     "metadata": {},
     "output_type": "execute_result"
    }
   ],
   "source": [
    "lp = np.random.randn(8)\n",
    "print (lp)\n",
    "lp.sort()\n",
    "lp"
   ]
  },
  {
   "cell_type": "code",
   "execution_count": 54,
   "id": "65a0e91e",
   "metadata": {},
   "outputs": [
    {
     "data": {
      "text/plain": [
       "array([[-1.69871812, -0.56143142, -0.93413193, -1.16657706],\n",
       "       [ 0.14013863, -0.0127405 , -0.29535871,  0.85491128],\n",
       "       [-0.55206593, -0.31988553, -0.44361829, -0.72521817],\n",
       "       [-0.04797231, -1.15215087,  2.86351917, -2.60765347]])"
      ]
     },
     "execution_count": 54,
     "metadata": {},
     "output_type": "execute_result"
    }
   ],
   "source": [
    "tp = np.random.randn(4,4)\n",
    "tp"
   ]
  },
  {
   "cell_type": "code",
   "execution_count": 55,
   "id": "56fc9549",
   "metadata": {},
   "outputs": [
    {
     "data": {
      "text/plain": [
       "array([[-1.69871812, -1.16657706, -0.93413193, -0.56143142],\n",
       "       [-0.29535871, -0.0127405 ,  0.14013863,  0.85491128],\n",
       "       [-0.72521817, -0.55206593, -0.44361829, -0.31988553],\n",
       "       [-2.60765347, -1.15215087, -0.04797231,  2.86351917]])"
      ]
     },
     "execution_count": 55,
     "metadata": {},
     "output_type": "execute_result"
    }
   ],
   "source": [
    "tp.sort(1) #check the rows are sorted\n",
    "tp"
   ]
  },
  {
   "cell_type": "code",
   "execution_count": 56,
   "id": "ae2abdc3",
   "metadata": {},
   "outputs": [
    {
     "data": {
      "text/plain": [
       "array(['Jeevan', 'Latha', 'Meet', 'Milan', 'Prakash', 'Roshan'],\n",
       "      dtype='<U7')"
      ]
     },
     "execution_count": 56,
     "metadata": {},
     "output_type": "execute_result"
    }
   ],
   "source": [
    "personals = np.array(['Meet', 'Latha', 'Milan', 'Roshan', 'Prakash', 'Jeevan', 'Prakash'])\n",
    "np.unique(personals)# returns the unique elements in the array"
   ]
  },
  {
   "cell_type": "code",
   "execution_count": 57,
   "id": "924174f1",
   "metadata": {},
   "outputs": [
    {
     "data": {
      "text/plain": [
       "{'Jeevan', 'Latha', 'Meet', 'Milan', 'Prakash', 'Roshan'}"
      ]
     },
     "execution_count": 57,
     "metadata": {},
     "output_type": "execute_result"
    }
   ],
   "source": [
    "set(personals)"
   ]
  },
  {
   "cell_type": "code",
   "execution_count": 58,
   "id": "30cc6184",
   "metadata": {},
   "outputs": [
    {
     "data": {
      "text/plain": [
       "array([False, False, False, False, False, False, False])"
      ]
     },
     "execution_count": 58,
     "metadata": {},
     "output_type": "execute_result"
    }
   ],
   "source": [
    "np.in1d(personals, ['Manu']) #in1d function checks for the value 'Manu' and returns True, other wise returns False"
   ]
  },
  {
   "cell_type": "markdown",
   "id": "909bce19",
   "metadata": {},
   "source": [
    "Other Functions are :\n",
    "intersect1d(x, y)-> Compute the sorted, common elements in x and y\n",
    "union1d(x,y) -> compute the sorted union of elements\n",
    "setdiff1d(x,y) -> set difference, elements in x that are not in y\n",
    "setxor1d(x, y) -> Set symmetric differences; elements that are in either of the arrays, but not both"
   ]
  },
  {
   "cell_type": "markdown",
   "id": "08a3ebb5",
   "metadata": {},
   "source": [
    "# Linear Algebra"
   ]
  },
  {
   "cell_type": "code",
   "execution_count": 59,
   "id": "98f7bbf8",
   "metadata": {},
   "outputs": [
    {
     "name": "stdout",
     "output_type": "stream",
     "text": [
      "CP array :[[4 5 6]\n",
      " [1 2 3]]\n",
      "DP array :[[ 7  8]\n",
      " [ 9 10]\n",
      " [11 12]]\n"
     ]
    }
   ],
   "source": [
    "cp = np.array([[4,5,6],[1,2,3]])\n",
    "dp = np.array([[7,8],[9,10],[11,12]])\n",
    "print (\"CP array :{}\".format(cp))\n",
    "print (\"DP array :{}\".format(dp))"
   ]
  },
  {
   "cell_type": "code",
   "execution_count": 60,
   "id": "48058af0",
   "metadata": {},
   "outputs": [
    {
     "data": {
      "text/plain": [
       "array([[139, 154],\n",
       "       [ 58,  64]])"
      ]
     },
     "execution_count": 60,
     "metadata": {},
     "output_type": "execute_result"
    }
   ],
   "source": [
    "# element wise multiplication\n",
    "cp.dot(dp) # this is equivalent to np.dot(x,y)"
   ]
  },
  {
   "cell_type": "code",
   "execution_count": 61,
   "id": "cd6c8c08",
   "metadata": {},
   "outputs": [
    {
     "data": {
      "text/plain": [
       "array([15.,  6.])"
      ]
     },
     "execution_count": 61,
     "metadata": {},
     "output_type": "execute_result"
    }
   ],
   "source": [
    "np.dot(cp, np.ones(3)) "
   ]
  },
  {
   "cell_type": "code",
   "execution_count": 62,
   "id": "aea5ee17",
   "metadata": {},
   "outputs": [
    {
     "name": "stdout",
     "output_type": "stream",
     "text": [
      "[[ 20  30  40]\n",
      " [ 30  50  70]\n",
      " [ 40  70 100]]\n"
     ]
    }
   ],
   "source": [
    "# numpy.linalg has standard matrix operations like determinants and inverse.\n",
    "from numpy.linalg import inv, qr\n",
    "cp = np.array([[2,5,8],[4,5,6]])\n",
    "new_mat = cp.T.dot(cp) # multiply cp inverse and cp, this is element wise multiplication\n",
    "print (new_mat)"
   ]
  },
  {
   "cell_type": "code",
   "execution_count": 63,
   "id": "d19d0152",
   "metadata": {},
   "outputs": [
    {
     "name": "stdout",
     "output_type": "stream",
     "text": [
      "[[ 0.17162863 -0.11667809 -0.55052719 -0.33805077  0.10483444]\n",
      " [-0.87612742  0.32006366 -0.53168855 -0.55825973  1.52587967]\n",
      " [-0.46336163 -0.40018739 -0.24758103 -0.16593553 -0.7410625 ]\n",
      " [-0.16468417  0.36706464  0.32883496 -0.48517949  1.30603619]\n",
      " [-0.1266217   0.23440436 -0.36942209 -0.267395    0.18564776]]\n"
     ]
    }
   ],
   "source": [
    "sp = np.random.randn(5,5)\n",
    "print (inv(sp))\n",
    "rt = inv(sp)"
   ]
  },
  {
   "cell_type": "code",
   "execution_count": 64,
   "id": "12aca690",
   "metadata": {},
   "outputs": [
    {
     "data": {
      "text/plain": [
       "array([[ 1.00000000e+00, -5.90644633e-17,  9.98299509e-17,\n",
       "        -8.40642662e-17,  9.56024297e-17],\n",
       "       [ 1.73432291e-17,  1.00000000e+00, -1.10580015e-16,\n",
       "        -3.43711005e-18,  3.48155975e-17],\n",
       "       [-8.05145207e-17, -2.47255903e-17,  1.00000000e+00,\n",
       "        -7.63010320e-17, -7.44063167e-17],\n",
       "       [ 1.47390991e-16, -4.66787352e-17,  1.28116937e-16,\n",
       "         1.00000000e+00, -5.86193940e-17],\n",
       "       [ 2.60713464e-17,  5.93607417e-17,  2.73248420e-17,\n",
       "        -8.64814084e-17,  1.00000000e+00]])"
      ]
     },
     "execution_count": 64,
     "metadata": {},
     "output_type": "execute_result"
    }
   ],
   "source": [
    "# to calculate the product of a matrix and its inverse\n",
    "sp.dot(rt)"
   ]
  },
  {
   "cell_type": "code",
   "execution_count": 65,
   "id": "1c121bbe",
   "metadata": {},
   "outputs": [
    {
     "name": "stdout",
     "output_type": "stream",
     "text": [
      "[[-0.51112365 -0.40388736  0.72404791  0.01504854 -0.22617643]\n",
      " [ 0.71377299 -0.29846625  0.46971516 -0.07417845  0.41870186]\n",
      " [ 0.2995321  -0.35910504 -0.18338457 -0.55880087 -0.65987558]\n",
      " [ 0.29314727  0.68913549  0.43936405  0.13410756 -0.47763098]\n",
      " [-0.23157274  0.37937942  0.16867609 -0.81487904  0.33161099]]\n"
     ]
    },
    {
     "data": {
      "text/plain": [
       "array([[-2.1773156 , -0.10147619, -0.07126715, -0.26447461,  2.39230133],\n",
       "       [ 0.        ,  1.55416729, -0.8608401 , -1.70077894, -2.20175199],\n",
       "       [ 0.        ,  0.        , -1.47934859, -0.81821465,  0.75952585],\n",
       "       [ 0.        ,  0.        ,  0.        , -0.74471944,  0.84973555],\n",
       "       [ 0.        ,  0.        ,  0.        ,  0.        ,  1.78623748]])"
      ]
     },
     "execution_count": 65,
     "metadata": {},
     "output_type": "execute_result"
    }
   ],
   "source": [
    "q,r = qr(sp)\n",
    "print (q)\n",
    "r"
   ]
  },
  {
   "cell_type": "markdown",
   "id": "ee8eab43",
   "metadata": {},
   "source": [
    "Other Matrix Functions\n",
    "\n",
    "diag : Return the diagonal (or off-diagonal) elements of a square matrix as a 1D array, or convert a 1D array into a square\n",
    "matrix with zeros on the off-diagonal\n",
    "trace: Compute the sum of the diagonal elements\n",
    "det: Compute the matrix determinant\n",
    "eig: Compute the eigenvalues and eigenvectors of a square matrix\n",
    "pinv: Compute the pseudo-inverse of a square matrix\n",
    "svd: Compute the singular value decomposition (SVD)\n",
    "solve: Solve the linear system Ax = b for x, where A is a square matrix\n",
    "lstsq: Compute the least-squares solution to y = Xb"
   ]
  }
 ],
 "metadata": {
  "kernelspec": {
   "display_name": "Python 3",
   "language": "python",
   "name": "python3"
  },
  "language_info": {
   "codemirror_mode": {
    "name": "ipython",
    "version": 3
   },
   "file_extension": ".py",
   "mimetype": "text/x-python",
   "name": "python",
   "nbconvert_exporter": "python",
   "pygments_lexer": "ipython3",
   "version": "3.8.8"
  }
 },
 "nbformat": 4,
 "nbformat_minor": 5
}
