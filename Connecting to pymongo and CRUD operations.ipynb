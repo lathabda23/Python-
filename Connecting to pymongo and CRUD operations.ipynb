{
 "cells": [
  {
   "cell_type": "code",
   "execution_count": 1,
   "id": "9ff1fec8",
   "metadata": {},
   "outputs": [
    {
     "name": "stdout",
     "output_type": "stream",
     "text": [
      "Requirement already satisfied: pymongo in c:\\users\\latha\\anaconda3\\lib\\site-packages (4.0.1)\n",
      "Note: you may need to restart the kernel to use updated packages.\n"
     ]
    }
   ],
   "source": [
    "#install pymongo package\n",
    "pip install pymongo"
   ]
  },
  {
   "cell_type": "code",
   "execution_count": 2,
   "id": "481ed444",
   "metadata": {},
   "outputs": [],
   "source": [
    "#importing mongo\n",
    "import pymongo"
   ]
  },
  {
   "cell_type": "code",
   "execution_count": 3,
   "id": "9a3f595c",
   "metadata": {},
   "outputs": [
    {
     "name": "stdout",
     "output_type": "stream",
     "text": [
      "Connection Successful\n"
     ]
    }
   ],
   "source": [
    "#connecting to mongodb using pymongo package\n",
    "client=pymongo.MongoClient(\"mongodb://127.0.0.1:27017\")\n",
    "print(\"Connection Successful\")"
   ]
  },
  {
   "cell_type": "code",
   "execution_count": 4,
   "id": "2f862f3c",
   "metadata": {},
   "outputs": [
    {
     "data": {
      "text/plain": [
       "['admin', 'config', 'local']"
      ]
     },
     "execution_count": 4,
     "metadata": {},
     "output_type": "execute_result"
    }
   ],
   "source": [
    "#listing default databases\n",
    "client.list_database_names()"
   ]
  },
  {
   "cell_type": "code",
   "execution_count": 5,
   "id": "027866e6",
   "metadata": {},
   "outputs": [],
   "source": [
    "#creating a database\n",
    "db_name=\"fruitsDB\"\n",
    "fruitsDB=client[db_name]"
   ]
  },
  {
   "cell_type": "code",
   "execution_count": 6,
   "id": "0f62dea1",
   "metadata": {},
   "outputs": [],
   "source": [
    "#creating collection\n",
    "collection_name=\"fruits\"\n",
    "fruits_collection=fruitsDB[collection_name]"
   ]
  },
  {
   "cell_type": "code",
   "execution_count": 7,
   "id": "34620952",
   "metadata": {},
   "outputs": [],
   "source": [
    "#creating a documents of fruits\n",
    "Doc1=[{\"fruit\":\"Apple\",\"size\":\"Large\",\"color\":\"Red\"},\n",
    "             {\"fruit\":\"Mango\",\"size\":\"Medium\",\"color\":\"Yellow\"},\n",
    "             {\"fruit\":\"Guava\",\"size\":\"Small\",\"color\":\"Green\"}]"
   ]
  },
  {
   "cell_type": "code",
   "execution_count": 8,
   "id": "b65474c5",
   "metadata": {},
   "outputs": [
    {
     "data": {
      "text/plain": [
       "<pymongo.results.InsertManyResult at 0x24df5425180>"
      ]
     },
     "execution_count": 8,
     "metadata": {},
     "output_type": "execute_result"
    }
   ],
   "source": [
    "#inserting the document into the collection of fruits\n",
    "fruits_collection.insert_many(Doc1)"
   ]
  },
  {
   "cell_type": "code",
   "execution_count": 9,
   "id": "b5f1ed83",
   "metadata": {},
   "outputs": [],
   "source": [
    "#retrieve operation\n",
    "selectQuery={'fruit':'Apple'}\n",
    "result=fruits_collection.find_one(selectQuery)"
   ]
  },
  {
   "cell_type": "code",
   "execution_count": 10,
   "id": "a14f14b5",
   "metadata": {},
   "outputs": [
    {
     "data": {
      "text/plain": [
       "{'_id': ObjectId('6205dacb9de827476ca6ff78'),\n",
       " 'fruit': 'Apple',\n",
       " 'size': 'Large',\n",
       " 'color': 'Red'}"
      ]
     },
     "execution_count": 10,
     "metadata": {},
     "output_type": "execute_result"
    }
   ],
   "source": [
    "#Printing the Result\n",
    "result"
   ]
  },
  {
   "cell_type": "code",
   "execution_count": 11,
   "id": "4a34372c",
   "metadata": {},
   "outputs": [],
   "source": [
    "#update operation\n",
    "selectQuery={'fruit':'Apple'}\n",
    "updateQuery={'$set':{'fruit':'Dragon Fruit'}}\n",
    "result1=fruits_collection.update_one(selectQuery,updateQuery)"
   ]
  },
  {
   "cell_type": "code",
   "execution_count": 12,
   "id": "3e23320c",
   "metadata": {},
   "outputs": [
    {
     "data": {
      "text/plain": [
       "<pymongo.results.UpdateResult at 0x24df5432c40>"
      ]
     },
     "execution_count": 12,
     "metadata": {},
     "output_type": "execute_result"
    }
   ],
   "source": [
    "#updated result\n",
    "result1"
   ]
  },
  {
   "cell_type": "code",
   "execution_count": 13,
   "id": "d4581d99",
   "metadata": {},
   "outputs": [],
   "source": [
    "#delete operation\n",
    "deleteQuery={'fruit':'Guava'}\n",
    "result2=fruits_collection.delete_one(deleteQuery)"
   ]
  },
  {
   "cell_type": "code",
   "execution_count": 14,
   "id": "96104bbd",
   "metadata": {},
   "outputs": [
    {
     "data": {
      "text/plain": [
       "<pymongo.results.DeleteResult at 0x24df5432f00>"
      ]
     },
     "execution_count": 14,
     "metadata": {},
     "output_type": "execute_result"
    }
   ],
   "source": [
    "result2"
   ]
  },
  {
   "cell_type": "code",
   "execution_count": null,
   "id": "b1f8d0c5",
   "metadata": {},
   "outputs": [],
   "source": []
  }
 ],
 "metadata": {
  "kernelspec": {
   "display_name": "Python 3",
   "language": "python",
   "name": "python3"
  },
  "language_info": {
   "codemirror_mode": {
    "name": "ipython",
    "version": 3
   },
   "file_extension": ".py",
   "mimetype": "text/x-python",
   "name": "python",
   "nbconvert_exporter": "python",
   "pygments_lexer": "ipython3",
   "version": "3.8.8"
  }
 },
 "nbformat": 4,
 "nbformat_minor": 5
}
